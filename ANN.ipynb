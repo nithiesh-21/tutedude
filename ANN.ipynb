{
 "cells": [
  {
   "cell_type": "code",
   "execution_count": 6,
   "id": "a9316085-3aef-4a22-977c-814639146c10",
   "metadata": {},
   "outputs": [],
   "source": [
    "a=[0,0,1,1,0,0,\n",
    "   0,1,0,0,1,0,\n",
    "   1,1,1,1,1,1,\n",
    "   1,0,0,0,0,1,\n",
    "   1,0,0,0,0,1]\n",
    "\n",
    "b=[0,1,1,1,1,0,\n",
    "   0,1,0,0,1,0,\n",
    "   0,1,1,1,1,0,\n",
    "   0,1,0,0,1,0,\n",
    "   0,1,1,1,1,0]\n",
    "\n",
    "c=[0,1,1,1,1,0,\n",
    "   0,1,0,0,0,0,\n",
    "   0,1,0,0,0,0,\n",
    "   0,1,0,0,0,0,\n",
    "   0,1,1,1,1,0]"
   ]
  },
  {
   "cell_type": "code",
   "execution_count": 7,
   "id": "a4a6de59-b5ee-4529-a12c-2dd940ec891a",
   "metadata": {},
   "outputs": [],
   "source": [
    "y=[[1,0,0,],\n",
    "   [0,1,0],\n",
    "   [0,0,1]]"
   ]
  },
  {
   "cell_type": "code",
   "execution_count": 8,
   "id": "853c198d-ef13-4a1a-a8e7-d6a1d7a06a7e",
   "metadata": {},
   "outputs": [],
   "source": [
    "import numpy as np\n",
    "import matplotlib.pyplot as plt"
   ]
  },
  {
   "cell_type": "code",
   "execution_count": 9,
   "id": "bc018dad-09cc-4e78-bd16-68dd8dc4b70d",
   "metadata": {},
   "outputs": [
    {
     "data": {
      "image/png": "[encoded data removed]",
      "text/plain": [
       "<Figure size 640x480 with 1 Axes>"
      ]
     },
     "metadata": {},
     "output_type": "display_data"
    }
   ],
   "source": [
    "plt.imshow(np.array(a).reshape(5,6))\n",
    "plt.show()"
   ]
  },
  {
   "cell_type": "code",
   "execution_count": 10,
   "id": "b431691d-e6a6-4d91-8a54-c514dc80b5aa",
   "metadata": {},
   "outputs": [
    {
     "name": "stdout",
     "output_type": "stream",
     "text": [
      "[array([[0, 0, 1, 1, 0, 0, 0, 1, 0, 0, 1, 0, 1, 1, 1, 1, 1, 1, 1, 0, 0, 0,\n",
      "        0, 1, 1, 0, 0, 0, 0, 1]]), array([[0, 1, 1, 1, 1, 0, 0, 1, 0, 0, 1, 0, 0, 1, 1, 1, 1, 0, 0, 1, 0, 0,\n",
      "        1, 0, 0, 1, 1, 1, 1, 0]]), array([[0, 1, 1, 1, 1, 0, 0, 1, 0, 0, 0, 0, 0, 1, 0, 0, 0, 0, 0, 1, 0, 0,\n",
      "        0, 0, 0, 1, 1, 1, 1, 0]])] \n",
      "\n",
      " [[1 0 0]\n",
      " [0 1 0]\n",
      " [0 0 1]]\n"
     ]
    }
   ],
   "source": [
    "x=[np.array(a).reshape(1,30),np.array(b).reshape(1,30),np.array(c).reshape(1,30)]\n",
    "y=np.array(y)\n",
    "print(x,\"\\n\\n\",y)"
   ]
  },
  {
   "cell_type": "code",
   "execution_count": 11,
   "id": "27cfa224-2eeb-4eb9-88e3-7a1c55b4485f",
   "metadata": {},
   "outputs": [],
   "source": [
    "def sigmoid(x):\n",
    "    retuen(1/(1+np.exp(-x)))"
   ]
  },
  {
   "cell_type": "code",
   "execution_count": 12,
   "id": "1b03cc8f-826a-4fd8-ac2d-a9aff19d19ea",
   "metadata": {},
   "outputs": [],
   "source": [
    "def f_forward(x,w1,w2):\n",
    "    z1=x.dot(w1)\n",
    "    a1=sigmoid(z1)\n",
    "\n",
    "    z2=x.dot(w2)\n",
    "    a2=sigmoid(z2)\n",
    "    return(a2)"
   ]
  },
  {
   "cell_type": "code",
   "execution_count": 14,
   "id": "6e6f51cf-cebf-4e36-bdc6-06888be81fdc",
   "metadata": {},
   "outputs": [],
   "source": [
    "def generate_wt(x,y):\n",
    "    l=[]\n",
    "    for i in range(x*y):\n",
    "        l.append(np.random.randn())\n",
    "    return(np.array(l).reshape(x,y))"
   ]
  },
  {
   "cell_type": "code",
   "execution_count": 15,
   "id": "b9d4dde7-a59b-40f9-a205-652fac3ee738",
   "metadata": {},
   "outputs": [],
   "source": [
    "def loss(out, y):\n",
    "    s=(np.square(out-y))\n",
    "    s=np.sum(s)/len(y)\n",
    "    return(s)"
   ]
  },
  {
   "cell_type": "code",
   "execution_count": 16,
   "id": "cfa06771-6a32-4704-8111-1bd8965ea7c7",
   "metadata": {},
   "outputs": [],
   "source": [
    "def back_prop(x,y,w1,w2,alpha):\n",
    "    z1=x.dot(w1)\n",
    "    a1=sigmoid(z1)\n",
    "    z2=x.dot(w2)\n",
    "    a2=sigmoid(z2)\n",
    "    d2=(a2-y)\n",
    "    d1=np.multiply((w2.dot((d2.transpose())))).transpose(),(np.multiply(a1,1-a1))\n",
    "    w1_adj=x.transpose().dot(d1)\n",
    "    w2_adj=a1.transpose().dot(d2)\n",
    "    w1=w1-(aplha*(w1_adj))\n",
    "    w2=w2-(aplha*(w2_adj))\n",
    "    return (w1,w2)"
   ]
  },
  {
   "cell_type": "code",
   "execution_count": 24,
   "id": "e8047cb7-a171-4c5f-9dec-6c204e579f9b",
   "metadata": {},
   "outputs": [],
   "source": [
    "def train(x,y,w1,w2,alpha=0.01,epoch=10):\n",
    "    acc=[]\n",
    "    loss=[]\n",
    "    for j in range(epoch):\n",
    "        l=[]\n",
    "        for i in range(len(x)):\n",
    "            out=f_forward(x[i],w1,w2)\n",
    "            l.append((loss(out,y[i])))\n",
    "            w1,w2=back_prop(x[i],y[i],w1,w2,alpha)\n",
    "        print(\"Epochs:\",j+1,\"acc:\",(1-(sum(l)/len(x)))*100)\n",
    "        acc.append((1-(sum(l)/len(x)))*100)\n",
    "        loss.append(sum(l)/len(x))\n",
    "    return(acc,loss,w1,w2)"
   ]
  },
  {
   "cell_type": "code",
   "execution_count": 28,
   "id": "6211ee0d-381e-4640-b16f-27cb8d0dca0e",
   "metadata": {},
   "outputs": [],
   "source": [
    "def predict(x,w1,w2):\n",
    "    out=f_forward(x,w1,w2)\n",
    "    maxm=0\n",
    "    k=0\n",
    "    for i in range(len(out([0]))):\n",
    "        if(maxm<out[0][i]):\n",
    "            maxm=out[0][i]\n",
    "            k=i\n",
    "        if (k==0):\n",
    "            print(\"image is a letter of a\")\n",
    "        elif(k==1):\n",
    "            print(\"image is of letter b\")\n",
    "        else:\n",
    "            print(\"image is of letter c\")\n",
    "        plt.imshow(x.reshape(5,6))\n",
    "        plt.show()"
   ]
  },
  {
   "cell_type": "code",
   "execution_count": 29,
   "id": "fef67f7a-d5b0-495c-bee5-3c7ab22a715c",
   "metadata": {},
   "outputs": [
    {
     "name": "stdout",
     "output_type": "stream",
     "text": [
      "[[-2.11081930e-01  3.17854838e-02  3.43109787e-02  1.14119911e+00\n",
      "   1.41326202e+00]\n",
      " [-1.02274687e+00 -9.17364085e-01 -1.37924389e+00  8.20285002e-01\n",
      "  -1.75787546e-01]\n",
      " [ 6.46781481e-01  2.91768268e-01  6.62181104e-01  3.71765090e-02\n",
      "   5.81459759e-01]\n",
      " [-9.06124375e-02  3.84309495e-01  1.61617323e+00  5.20499899e-01\n",
      "   1.85193591e+00]\n",
      " [ 9.37126499e-01  1.71939232e+00 -1.11556986e-02  4.29755668e-01\n",
      "  -1.56174505e+00]\n",
      " [-8.00915373e-01 -1.42654665e-01  6.01335392e-01  1.02373683e+00\n",
      "  -2.95232012e-01]\n",
      " [-9.38964785e-01  8.38546469e-01 -2.00850287e-01  8.85698763e-02\n",
      "  -2.32373882e-01]\n",
      " [-4.84184489e-01  4.62085621e-01 -1.05429290e+00  5.59981296e-01\n",
      "  -1.86427506e+00]\n",
      " [ 9.13236743e-01 -4.53689735e-01  1.03562010e+00  3.07227756e-01\n",
      "  -8.01361036e-01]\n",
      " [ 6.14624934e-01 -1.20197130e+00 -3.48359936e-01  8.41564442e-01\n",
      "  -1.15647058e-01]\n",
      " [-7.25620295e-01 -9.25230312e-01  1.15630140e+00 -7.39165865e-01\n",
      "  -4.36321396e-01]\n",
      " [ 5.02031295e-01  4.00112599e-02 -1.07061101e+00  2.10098722e+00\n",
      "   7.91255586e-01]\n",
      " [-1.33261076e+00  1.26292304e+00 -4.32172229e-01  1.51461885e+00\n",
      "  -1.15192261e+00]\n",
      " [ 1.32880554e-02 -5.46934539e-01  7.10410294e-02  1.33815349e-01\n",
      "  -3.56655022e-04]\n",
      " [ 2.95141669e-01  3.19483187e-01  1.60511496e-01 -7.63819344e-01\n",
      "  -1.10177129e+00]\n",
      " [ 2.61164309e-01  1.22599341e+00  6.29930079e-01  1.00013013e+00\n",
      "  -1.77377233e-01]\n",
      " [ 9.76878628e-01  1.25001597e+00 -3.78270747e-01  3.21923234e-01\n",
      "  -7.71222577e-01]\n",
      " [ 2.91231444e-01  1.36863321e+00  4.02035367e-01  1.24814548e+00\n",
      "  -4.38392827e-01]\n",
      " [-2.36047198e+00 -6.11950432e-01  4.16309932e-02  1.34303969e+00\n",
      "  -2.15366545e-01]\n",
      " [ 3.72307016e-01 -3.47077753e-01  6.50505016e-01 -9.10596930e-01\n",
      "   1.23595476e-01]\n",
      " [ 1.70665398e-01  4.16522662e-01  1.65572883e+00  2.26365207e+00\n",
      "   2.45059989e+00]\n",
      " [ 1.51662760e+00  1.06285741e+00 -9.15821458e-01  1.18418085e+00\n",
      "  -1.34277688e+00]\n",
      " [ 1.33749439e+00  2.86173098e-01 -6.20575114e-01  1.73906622e+00\n",
      "  -3.69452173e-01]\n",
      " [-5.62272941e-01  3.58982229e-01  1.80896052e-01 -8.25638275e-01\n",
      "  -1.62661227e+00]\n",
      " [-1.15562744e+00  1.01285695e-01  7.75358066e-02  3.07343706e+00\n",
      "  -1.96823458e+00]\n",
      " [-1.17071735e+00 -1.20582858e+00 -1.16124187e+00 -9.10926255e-01\n",
      "   8.77218198e-01]\n",
      " [ 2.80586813e-02 -8.18271586e-01  5.26086403e-01  1.43056581e-01\n",
      "   2.39558594e-02]\n",
      " [-2.38498727e+00 -3.79116088e-01 -1.17925817e+00  1.16448574e+00\n",
      "   9.50384582e-01]\n",
      " [-9.67213257e-01 -1.96661520e-01  5.94140187e-01 -1.22862891e+00\n",
      "  -5.77861230e-01]\n",
      " [-1.54356354e+00 -1.22750800e+00  1.87970171e+00  4.62770227e-01\n",
      "   4.89578502e-01]] \n",
      " [[-1.38001134  0.56199651  1.99420592]\n",
      " [-0.04828985  0.64946837  0.08158953]\n",
      " [ 0.89857199  0.59096713  1.18000159]\n",
      " [-1.06880533  0.50991274 -0.64364301]\n",
      " [ 0.45981719  0.97141275  1.26081684]]\n"
     ]
    }
   ],
   "source": [
    "w1=generate_wt(30,5)\n",
    "w2=generate_wt(5,3)\n",
    "print(w1,\"\\n\",w2)"
   ]
  },
  {
   "cell_type": "code",
   "execution_count": null,
   "id": "ae98ce43-a950-4488-a62a-8fa3c4f49970",
   "metadata": {},
   "outputs": [],
   "source": [
    "acc,loss,w1,w2=train(x,y,w1,w2,0.1,100)"
   ]
  },
  {
   "cell_type": "code",
   "execution_count": null,
   "id": "cbd5b313-229b-4674-b70b-e5862391b5bb",
   "metadata": {},
   "outputs": [],
   "source": [
    "import matplotlib.pyplot as plt1\n",
    "plt1.plot(acc)\n",
    "plt.ylabel('Accuracy')\n",
    "plt.xlabel(\"epochs :\")\n",
    "plt1.show()"
   ]
  },
  {
   "cell_type": "code",
   "execution_count": null,
   "id": "c0ac3216-e6a0-4ed4-a0a7-6b26c8b599e2",
   "metadata": {},
   "outputs": [],
   "source": [
    "plt1.plot(losss)\n",
    "plt.ylabel('Loss')\n",
    "plt.xlabel(\"Epochs:\")\n",
    "plt1.show()"
   ]
  },
  {
   "cell_type": "code",
   "execution_count": 33,
   "id": "3aceca1b-6dc4-4703-bb30-4d6017467939",
   "metadata": {},
   "outputs": [
    {
     "name": "stdout",
     "output_type": "stream",
     "text": [
      "[[-2.11081930e-01  3.17854838e-02  3.43109787e-02  1.14119911e+00\n",
      "   1.41326202e+00]\n",
      " [-1.02274687e+00 -9.17364085e-01 -1.37924389e+00  8.20285002e-01\n",
      "  -1.75787546e-01]\n",
      " [ 6.46781481e-01  2.91768268e-01  6.62181104e-01  3.71765090e-02\n",
      "   5.81459759e-01]\n",
      " [-9.06124375e-02  3.84309495e-01  1.61617323e+00  5.20499899e-01\n",
      "   1.85193591e+00]\n",
      " [ 9.37126499e-01  1.71939232e+00 -1.11556986e-02  4.29755668e-01\n",
      "  -1.56174505e+00]\n",
      " [-8.00915373e-01 -1.42654665e-01  6.01335392e-01  1.02373683e+00\n",
      "  -2.95232012e-01]\n",
      " [-9.38964785e-01  8.38546469e-01 -2.00850287e-01  8.85698763e-02\n",
      "  -2.32373882e-01]\n",
      " [-4.84184489e-01  4.62085621e-01 -1.05429290e+00  5.59981296e-01\n",
      "  -1.86427506e+00]\n",
      " [ 9.13236743e-01 -4.53689735e-01  1.03562010e+00  3.07227756e-01\n",
      "  -8.01361036e-01]\n",
      " [ 6.14624934e-01 -1.20197130e+00 -3.48359936e-01  8.41564442e-01\n",
      "  -1.15647058e-01]\n",
      " [-7.25620295e-01 -9.25230312e-01  1.15630140e+00 -7.39165865e-01\n",
      "  -4.36321396e-01]\n",
      " [ 5.02031295e-01  4.00112599e-02 -1.07061101e+00  2.10098722e+00\n",
      "   7.91255586e-01]\n",
      " [-1.33261076e+00  1.26292304e+00 -4.32172229e-01  1.51461885e+00\n",
      "  -1.15192261e+00]\n",
      " [ 1.32880554e-02 -5.46934539e-01  7.10410294e-02  1.33815349e-01\n",
      "  -3.56655022e-04]\n",
      " [ 2.95141669e-01  3.19483187e-01  1.60511496e-01 -7.63819344e-01\n",
      "  -1.10177129e+00]\n",
      " [ 2.61164309e-01  1.22599341e+00  6.29930079e-01  1.00013013e+00\n",
      "  -1.77377233e-01]\n",
      " [ 9.76878628e-01  1.25001597e+00 -3.78270747e-01  3.21923234e-01\n",
      "  -7.71222577e-01]\n",
      " [ 2.91231444e-01  1.36863321e+00  4.02035367e-01  1.24814548e+00\n",
      "  -4.38392827e-01]\n",
      " [-2.36047198e+00 -6.11950432e-01  4.16309932e-02  1.34303969e+00\n",
      "  -2.15366545e-01]\n",
      " [ 3.72307016e-01 -3.47077753e-01  6.50505016e-01 -9.10596930e-01\n",
      "   1.23595476e-01]\n",
      " [ 1.70665398e-01  4.16522662e-01  1.65572883e+00  2.26365207e+00\n",
      "   2.45059989e+00]\n",
      " [ 1.51662760e+00  1.06285741e+00 -9.15821458e-01  1.18418085e+00\n",
      "  -1.34277688e+00]\n",
      " [ 1.33749439e+00  2.86173098e-01 -6.20575114e-01  1.73906622e+00\n",
      "  -3.69452173e-01]\n",
      " [-5.62272941e-01  3.58982229e-01  1.80896052e-01 -8.25638275e-01\n",
      "  -1.62661227e+00]\n",
      " [-1.15562744e+00  1.01285695e-01  7.75358066e-02  3.07343706e+00\n",
      "  -1.96823458e+00]\n",
      " [-1.17071735e+00 -1.20582858e+00 -1.16124187e+00 -9.10926255e-01\n",
      "   8.77218198e-01]\n",
      " [ 2.80586813e-02 -8.18271586e-01  5.26086403e-01  1.43056581e-01\n",
      "   2.39558594e-02]\n",
      " [-2.38498727e+00 -3.79116088e-01 -1.17925817e+00  1.16448574e+00\n",
      "   9.50384582e-01]\n",
      " [-9.67213257e-01 -1.96661520e-01  5.94140187e-01 -1.22862891e+00\n",
      "  -5.77861230e-01]\n",
      " [-1.54356354e+00 -1.22750800e+00  1.87970171e+00  4.62770227e-01\n",
      "   4.89578502e-01]] \n",
      " [[-1.38001134  0.56199651  1.99420592]\n",
      " [-0.04828985  0.64946837  0.08158953]\n",
      " [ 0.89857199  0.59096713  1.18000159]\n",
      " [-1.06880533  0.50991274 -0.64364301]\n",
      " [ 0.45981719  0.97141275  1.26081684]]\n"
     ]
    }
   ],
   "source": [
    "print(w1,\"\\n\",w2)"
   ]
  },
  {
   "cell_type": "code",
   "execution_count": 34,
   "id": "ce996bb1-677c-4bbc-904e-0c930c1960a0",
   "metadata": {},
   "outputs": [
    {
     "ename": "NameError",
     "evalue": "name 'retuen' is not defined",
     "output_type": "error",
     "traceback": [
      "\u001b[1;31m---------------------------------------------------------------------------\u001b[0m",
      "\u001b[1;31mNameError\u001b[0m                                 Traceback (most recent call last)",
      "Cell \u001b[1;32mIn[34], line 1\u001b[0m\n\u001b[1;32m----> 1\u001b[0m \u001b[43mpredict\u001b[49m\u001b[43m(\u001b[49m\u001b[43mx\u001b[49m\u001b[43m[\u001b[49m\u001b[38;5;241;43m2\u001b[39;49m\u001b[43m]\u001b[49m\u001b[43m,\u001b[49m\u001b[43mw1\u001b[49m\u001b[43m,\u001b[49m\u001b[43mw2\u001b[49m\u001b[43m)\u001b[49m\n",
      "Cell \u001b[1;32mIn[28], line 2\u001b[0m, in \u001b[0;36mpredict\u001b[1;34m(x, w1, w2)\u001b[0m\n\u001b[0;32m      1\u001b[0m \u001b[38;5;28;01mdef\u001b[39;00m \u001b[38;5;21mpredict\u001b[39m(x,w1,w2):\n\u001b[1;32m----> 2\u001b[0m     out\u001b[38;5;241m=\u001b[39m\u001b[43mf_forward\u001b[49m\u001b[43m(\u001b[49m\u001b[43mx\u001b[49m\u001b[43m,\u001b[49m\u001b[43mw1\u001b[49m\u001b[43m,\u001b[49m\u001b[43mw2\u001b[49m\u001b[43m)\u001b[49m\n\u001b[0;32m      3\u001b[0m     maxm\u001b[38;5;241m=\u001b[39m\u001b[38;5;241m0\u001b[39m\n\u001b[0;32m      4\u001b[0m     k\u001b[38;5;241m=\u001b[39m\u001b[38;5;241m0\u001b[39m\n",
      "Cell \u001b[1;32mIn[12], line 3\u001b[0m, in \u001b[0;36mf_forward\u001b[1;34m(x, w1, w2)\u001b[0m\n\u001b[0;32m      1\u001b[0m \u001b[38;5;28;01mdef\u001b[39;00m \u001b[38;5;21mf_forward\u001b[39m(x,w1,w2):\n\u001b[0;32m      2\u001b[0m     z1\u001b[38;5;241m=\u001b[39mx\u001b[38;5;241m.\u001b[39mdot(w1)\n\u001b[1;32m----> 3\u001b[0m     a1\u001b[38;5;241m=\u001b[39m\u001b[43msigmoid\u001b[49m\u001b[43m(\u001b[49m\u001b[43mz1\u001b[49m\u001b[43m)\u001b[49m\n\u001b[0;32m      5\u001b[0m     z2\u001b[38;5;241m=\u001b[39mx\u001b[38;5;241m.\u001b[39mdot(w2)\n\u001b[0;32m      6\u001b[0m     a2\u001b[38;5;241m=\u001b[39msigmoid(z2)\n",
      "Cell \u001b[1;32mIn[11], line 2\u001b[0m, in \u001b[0;36msigmoid\u001b[1;34m(x)\u001b[0m\n\u001b[0;32m      1\u001b[0m \u001b[38;5;28;01mdef\u001b[39;00m \u001b[38;5;21msigmoid\u001b[39m(x):\n\u001b[1;32m----> 2\u001b[0m     \u001b[43mretuen\u001b[49m(\u001b[38;5;241m1\u001b[39m\u001b[38;5;241m/\u001b[39m(\u001b[38;5;241m1\u001b[39m\u001b[38;5;241m+\u001b[39mnp\u001b[38;5;241m.\u001b[39mexp(\u001b[38;5;241m-\u001b[39mx)))\n",
      "\u001b[1;31mNameError\u001b[0m: name 'retuen' is not defined"
     ]
    }
   ],
   "source": [
    "predict(x[2],w1,w2)"
   ]
  },
  {
   "cell_type": "code",
   "execution_count": null,
   "id": "75990b4c-4bb2-4091-9063-3db97ac37e3a",
   "metadata": {},
   "outputs": [],
   "source": []
  }
 ],
 "metadata": {
  "kernelspec": {
   "display_name": "Python 3 (ipykernel)",
   "language": "python",
   "name": "python3"
  },
  "language_info": {
   "codemirror_mode": {
    "name": "ipython",
    "version": 3
   },
   "file_extension": ".py",
   "mimetype": "text/x-python",
   "name": "python",
   "nbconvert_exporter": "python",
   "pygments_lexer": "ipython3",
   "version": "3.9.7"
  }
 },
 "nbformat": 4,
 "nbformat_minor": 5
}
